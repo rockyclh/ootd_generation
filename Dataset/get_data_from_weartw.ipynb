{
 "cells": [
  {
   "cell_type": "code",
   "execution_count": 51,
   "metadata": {},
   "outputs": [],
   "source": [
    "import pandas as pd\n",
    "import numpy as np\n",
    "from bs4 import BeautifulSoup\n",
    "import requests\n",
    "import re\n",
    "import json"
   ]
  },
  {
   "attachments": {},
   "cell_type": "markdown",
   "metadata": {},
   "source": [
    "## Read the URL of WEAR"
   ]
  },
  {
   "cell_type": "code",
   "execution_count": 2,
   "metadata": {},
   "outputs": [],
   "source": [
    "coordinate_response = requests.get('https://wear.tw/coordinate/', headers={'User-Agent': 'Mozilla/5.0'})\n",
    "coordinate_soup = BeautifulSoup(coordinate_response.text, 'html.parser')"
   ]
  },
  {
   "attachments": {},
   "cell_type": "markdown",
   "metadata": {},
   "source": [
    "## 1. All the different sub-category for Wear\n",
    "\n",
    "- sex\n",
    "- main category & sub-category\n",
    "- color\n",
    "- season\n",
    "- height\n",
    "- age\n",
    "- hair style\n",
    "- region"
   ]
  },
  {
   "attachments": {},
   "cell_type": "markdown",
   "metadata": {},
   "source": [
    "### 1.1 Get the Sex Category"
   ]
  },
  {
   "cell_type": "code",
   "execution_count": 3,
   "metadata": {},
   "outputs": [
    {
     "name": "stdout",
     "output_type": "stream",
     "text": [
      "[<li class=\"current\"><a class=\"icon_font over\" href=\"/coordinate/\">ALL</a></li>, <li><a class=\"icon_font over\" href=\"/men-coordinate/\">MEN</a></li>, <li><a class=\"icon_font over\" href=\"/women-coordinate/\">WOMEN</a></li>, <li><a class=\"icon_font over\" href=\"/kids-coordinate/\">KIDS</a></li>]\n"
     ]
    }
   ],
   "source": [
    "sex_category = coordinate_soup.find(\"section\", class_=\"sex\")\n",
    "sex_result =sex_category.find_all(\"li\")\n",
    "\n",
    "print(sex_result)"
   ]
  },
  {
   "cell_type": "code",
   "execution_count": 50,
   "metadata": {},
   "outputs": [
    {
     "name": "stdout",
     "output_type": "stream",
     "text": [
      "{'ALL': 'coordinate', 'MEN': 'men', 'WOMEN': 'women', 'KIDS': 'kids'}\n"
     ]
    }
   ],
   "source": [
    "## create a dictionary to store all the sex\n",
    "sex_dict = {}\n",
    "for sex_line in sex_result:\n",
    "    text = sex_line.find(\"a\").getText()\n",
    "    href = sex_line.find(\"a\").get('href')\n",
    "    sex_dict[text] = href.replace(\"-coordinate/\", \"\").replace(\"/\", \"\")\n",
    "\n",
    "print(sex_dict)"
   ]
  },
  {
   "cell_type": "code",
   "execution_count": 52,
   "metadata": {},
   "outputs": [],
   "source": [
    "## save it as the json file\n",
    "with open(r'C:\\Users\\user\\Documents\\Data Science\\Project\\1_OOTD_Image_Generator\\Dataset\\category_dict\\sex_dict.json', 'w') as f:\n",
    "    json.dump(sex_dict, f)"
   ]
  },
  {
   "attachments": {},
   "cell_type": "markdown",
   "metadata": {},
   "source": [
    "### 1.2 Get the Category"
   ]
  },
  {
   "cell_type": "code",
   "execution_count": 5,
   "metadata": {},
   "outputs": [
    {
     "name": "stdout",
     "output_type": "stream",
     "text": [
      "[<a class=\"icon_font\" href=\"/category/tops/\">上衣</a>, <a class=\"icon_font\" href=\"/category/jacket-outerwear/\">夾克／外套</a>, <a class=\"icon_font\" href=\"/category/pants/\">褲子</a>, <a class=\"icon_font\" href=\"/category/allinone-salopette/\">連體褲/背帶褲</a>, <a class=\"icon_font\" href=\"/category/skirt/\">裙子</a>, <a class=\"icon_font\" href=\"/category/onepiece/\">連衣裙/禮服裙</a>, <a class=\"icon_font\" href=\"/category/suit/\">正裝西服/小物</a>, <a class=\"icon_font\" href=\"/category/bag/\">包</a>, <a class=\"icon_font\" href=\"/category/shoes/\">鞋子</a>, <a class=\"icon_font\" href=\"/category/fashion-accessories/\">時尚配件</a>, <a class=\"icon_font\" href=\"/category/wallet-accessory/\">錢包/小物</a>, <a class=\"icon_font\" href=\"/category/wrist-watch/\">手錶</a>, <a class=\"icon_font\" href=\"/category/hair-accessory/\">頭飾</a>, <a class=\"icon_font\" href=\"/category/accessory/\">首飾</a>, <a class=\"icon_font\" href=\"/category/underwear/\">內衣</a>, <a class=\"icon_font\" href=\"/category/leg-wear/\">襪子</a>, <a class=\"icon_font\" href=\"/category/loungewear/\">居家服</a>, <a class=\"icon_font\" href=\"/category/hat/\">帽子</a>, <a class=\"icon_font\" href=\"/category/swimwear-kimono-yukata/\">泳裝/和服/夏季和服</a>, <a class=\"icon_font\" href=\"/category/mom-baby/\">母嬰用品</a>, <a class=\"icon_font\" href=\"/category/interior/\">室內裝飾</a>, <a class=\"icon_font\" href=\"/category/tableware-kitchenware/\">餐具/廚房用品</a>, <a class=\"icon_font\" href=\"/category/zakka-hobby/\">雜貨/興趣愛好</a>, <a class=\"icon_font\" href=\"/category/computer-cell-phone-accessories-appliances/\">電腦・手機配件/家電</a>, <a class=\"icon_font\" href=\"/category/skin-care/\">護膚</a>, <a class=\"icon_font\" href=\"/category/base-makeup/\">底妝產品</a>, <a class=\"icon_font\" href=\"/category/makeup/\">化妝品</a>, <a class=\"icon_font\" href=\"/category/beauty/\">美妝產品</a>, <a class=\"icon_font\" href=\"/category/body-care-hair-care/\">身體・頭髮護理</a>, <a class=\"icon_font\" href=\"/category/fragrance/\">香氛</a>, <a class=\"icon_font\" href=\"/category/outdoors-sports/\">戶外/體育用品</a>, <a class=\"icon_font\" href=\"/category/pet-supplies/\">寵物用品</a>, <a class=\"icon_font\" href=\"/category/music-books/\">音樂/書籍・雜誌</a>, <a class=\"icon_font\" href=\"/category/others/\">其他</a>]\n"
     ]
    }
   ],
   "source": [
    "clothes_category = coordinate_soup.find(\"section\", class_=\"category\")\n",
    "clothes_result =clothes_category.find_all(\"a\", class_=\"icon_font\")\n",
    "\n",
    "print(clothes_result)\n"
   ]
  },
  {
   "cell_type": "code",
   "execution_count": 15,
   "metadata": {},
   "outputs": [
    {
     "name": "stdout",
     "output_type": "stream",
     "text": [
      "there are 34 categories\n"
     ]
    },
    {
     "data": {
      "text/plain": [
       "['tops', 'jacket-outerwear', 'pants', 'allinone-salopette', 'skirt']"
      ]
     },
     "execution_count": 15,
     "metadata": {},
     "output_type": "execute_result"
    }
   ],
   "source": [
    "## create a dictionary to store all clothes category\n",
    "main_category_list = []\n",
    "\n",
    "for category in clothes_result:\n",
    "   main_category = category.get(\"href\").replace(\"/category\", \"\")\n",
    "   main_category = main_category.replace(\"/\", \"\")\n",
    "   main_category_list.append(main_category)\n",
    "\n",
    "print(f\"there are {len(main_category_list)} categories\")\n",
    "main_category_list[0:5]"
   ]
  },
  {
   "cell_type": "code",
   "execution_count": 53,
   "metadata": {},
   "outputs": [],
   "source": [
    "## using for loop to extract all the sub-category\n",
    "## Dict format:\n",
    "### - Key: main category\n",
    "### - Value: list of sub-category\n",
    "\n",
    "full_category_dict = {}\n",
    "\n",
    "for category in main_category_list:\n",
    "    temp_subcategory_list = []\n",
    "\n",
    "    subcategory_soup_list = coordinate_soup.find_all(\"a\", href=re.compile(f\"/category/{category}/\"))[2:]\n",
    "    for i in range(len(subcategory_soup_list)):\n",
    "        temp_subcategory = subcategory_soup_list[i].get(\"href\").split(\"/\")[3]\n",
    "        temp_subcategory_list.append(temp_subcategory)\n",
    "\n",
    "    full_category_dict[category] = temp_subcategory_list"
   ]
  },
  {
   "cell_type": "code",
   "execution_count": 54,
   "metadata": {},
   "outputs": [],
   "source": [
    "## save it as the json file\n",
    "with open(r'C:\\Users\\user\\Documents\\Data Science\\Project\\1_OOTD_Image_Generator\\Dataset\\category_dict\\full_category_dict.json', 'w') as f:\n",
    "    json.dump(full_category_dict, f)"
   ]
  },
  {
   "attachments": {},
   "cell_type": "markdown",
   "metadata": {},
   "source": [
    "### 1.3 Color"
   ]
  },
  {
   "cell_type": "code",
   "execution_count": 96,
   "metadata": {},
   "outputs": [],
   "source": [
    "color_group_soup = coordinate_soup.find(\"section\", class_=\"color\")\n",
    "color_group_soup = color_group_soup.find_all(\"li\")\n",
    "\n",
    "color_dict = {}\n",
    "for i in range(len(color_group_soup)):\n",
    "    color_text = color_group_soup[i].get(\"class\")[0]\n",
    "    color_code = color_group_soup[i].find_all(\"a\")[0].get(\"href\").replace(\"/coordinate/\", \"\")\n",
    "    color_dict[color_text] = color_code"
   ]
  },
  {
   "cell_type": "code",
   "execution_count": 98,
   "metadata": {},
   "outputs": [],
   "source": [
    "## save it as the json file\n",
    "with open(r'C:\\Users\\user\\Documents\\Data Science\\Project\\1_OOTD_Image_Generator\\Dataset\\category_dict\\color_dict.json', 'w') as f:\n",
    "    json.dump(color_dict, f)"
   ]
  },
  {
   "attachments": {},
   "cell_type": "markdown",
   "metadata": {},
   "source": [
    "### 1.4 Season"
   ]
  },
  {
   "cell_type": "code",
   "execution_count": 108,
   "metadata": {},
   "outputs": [],
   "source": [
    "season_soup = coordinate_soup.find(\"section\", class_=\"season\")\n",
    "season_soup = season_soup.find_all(\"a\")[2:]\n",
    "\n",
    "season_dict = {}\n",
    "season_dict[\"Spring\"] = season_soup[0].get(\"href\").replace(\"/coordinate/\", \"\")\n",
    "season_dict[\"Summer\"] = season_soup[1].get(\"href\").replace(\"/coordinate/\", \"\")\n",
    "season_dict[\"Autumn\"] = season_soup[2].get(\"href\").replace(\"/coordinate/\", \"\")\n",
    "season_dict[\"Winter\"] = season_soup[3].get(\"href\").replace(\"/coordinate/\", \"\")"
   ]
  },
  {
   "cell_type": "code",
   "execution_count": 110,
   "metadata": {},
   "outputs": [],
   "source": [
    "## save it as the json file\n",
    "with open(r'C:\\Users\\user\\Documents\\Data Science\\Project\\1_OOTD_Image_Generator\\Dataset\\category_dict\\season_dict.json', 'w') as f:\n",
    "    json.dump(season_dict, f)"
   ]
  },
  {
   "attachments": {},
   "cell_type": "markdown",
   "metadata": {},
   "source": [
    "### 1.5 Height"
   ]
  },
  {
   "cell_type": "code",
   "execution_count": 124,
   "metadata": {},
   "outputs": [],
   "source": [
    "height_soup = coordinate_soup.find(\"section\", class_=\"other\").find(\"div\", class_=\"height\")\n",
    "height_soup = height_soup.find_all(\"a\")[2:]\n",
    "\n",
    "height_dict = {}\n",
    "for i in range(len(height_soup)):\n",
    "    height_text = height_soup[i].getText()\n",
    "    height_code = height_soup[i].get(\"href\").replace(\"/coordinate/\", \"\")\n",
    "    height_dict[height_text] = height_code"
   ]
  },
  {
   "cell_type": "code",
   "execution_count": 123,
   "metadata": {},
   "outputs": [],
   "source": [
    "## save it as the json file\n",
    "with open(r'C:\\Users\\user\\Documents\\Data Science\\Project\\1_OOTD_Image_Generator\\Dataset\\category_dict\\height_dict.json', 'w') as f:\n",
    "    json.dump(height_dict, f)"
   ]
  },
  {
   "attachments": {},
   "cell_type": "markdown",
   "metadata": {},
   "source": [
    "### 1.6 Age"
   ]
  },
  {
   "cell_type": "code",
   "execution_count": 127,
   "metadata": {},
   "outputs": [],
   "source": [
    "age_soup = coordinate_soup.find(\"section\", class_=\"other\").find(\"div\", class_=\"age\")\n",
    "age_soup = age_soup.find_all(\"a\")[2:]\n",
    "\n",
    "age_dict = {}\n",
    "for i in range(len(age_soup)):\n",
    "    age_text = age_soup[i].getText().replace(\"歳\", \"\")\n",
    "    age_code = age_soup[i].get(\"href\").replace(\"/coordinate/\", \"\")\n",
    "    age_dict[age_text] = age_code"
   ]
  },
  {
   "cell_type": "code",
   "execution_count": 129,
   "metadata": {},
   "outputs": [],
   "source": [
    "## save it as the json file\n",
    "with open(r'C:\\Users\\user\\Documents\\Data Science\\Project\\1_OOTD_Image_Generator\\Dataset\\category_dict\\age_dict.json', 'w') as f:\n",
    "    json.dump(age_dict, f)"
   ]
  },
  {
   "attachments": {},
   "cell_type": "markdown",
   "metadata": {},
   "source": [
    "### 1.7 Hair Style"
   ]
  },
  {
   "cell_type": "code",
   "execution_count": 130,
   "metadata": {},
   "outputs": [],
   "source": [
    "hair_soup = coordinate_soup.find(\"section\", class_=\"other\").find(\"div\", class_=\"hair\")\n",
    "hair_soup = hair_soup.find_all(\"a\")[2:]\n",
    "\n",
    "hair_dict = {}\n",
    "for i in range(len(hair_soup)):\n",
    "    hair_text = hair_soup[i].getText().replace(\"歳\", \"\")\n",
    "    hair_code = hair_soup[i].get(\"href\").replace(\"/coordinate/\", \"\")\n",
    "    hair_dict[hair_text] = hair_code"
   ]
  },
  {
   "cell_type": "code",
   "execution_count": 132,
   "metadata": {},
   "outputs": [],
   "source": [
    "## save it as the json file\n",
    "with open(r'C:\\Users\\user\\Documents\\Data Science\\Project\\1_OOTD_Image_Generator\\Dataset\\category_dict\\hair_dict.json', 'w') as f:\n",
    "    json.dump(hair_dict, f)"
   ]
  },
  {
   "attachments": {},
   "cell_type": "markdown",
   "metadata": {},
   "source": [
    "### 1.8 Region"
   ]
  },
  {
   "cell_type": "code",
   "execution_count": 133,
   "metadata": {},
   "outputs": [],
   "source": [
    "region_soup = coordinate_soup.find(\"section\", class_=\"other\").find(\"div\", class_=\"region\")\n",
    "region_soup = region_soup.find_all(\"a\")[2:]\n",
    "\n",
    "region_dict = {}\n",
    "for i in range(len(region_soup)):\n",
    "    region_text = region_soup[i].getText().replace(\"歳\", \"\")\n",
    "    region_code = region_soup[i].get(\"href\").replace(\"/coordinate/\", \"\")\n",
    "    region_dict[region_text] = region_code"
   ]
  },
  {
   "cell_type": "code",
   "execution_count": 135,
   "metadata": {},
   "outputs": [],
   "source": [
    "## save it as the json file\n",
    "with open(r'C:\\Users\\user\\Documents\\Data Science\\Project\\1_OOTD_Image_Generator\\Dataset\\category_dict\\region_dict.json', 'w') as f:\n",
    "    json.dump(region_dict, f)"
   ]
  },
  {
   "attachments": {},
   "cell_type": "markdown",
   "metadata": {},
   "source": [
    "## 2. Script all the photos\n",
    "\n",
    "**URL** <br>\n",
    "https://wear.tw/men-category/tops/tshirt-cutsew/?color_group_id=1&from_age=20&to_age=24&from_height=171&to_height=180&hairstyle_id=5&from_month=3&to_month=5\n",
    "\n",
    "Model\n",
    "- sex\n",
    "- height\n",
    "- age\n",
    "- hair style\n",
    "- region\n",
    "\n",
    "\n",
    "Items\n",
    "- main category & sub-category\n",
    "- color\n",
    "- season\n"
   ]
  },
  {
   "cell_type": "code",
   "execution_count": null,
   "metadata": {},
   "outputs": [],
   "source": []
  },
  {
   "cell_type": "code",
   "execution_count": null,
   "metadata": {},
   "outputs": [],
   "source": []
  }
 ],
 "metadata": {
  "kernelspec": {
   "display_name": "ootd_generation",
   "language": "python",
   "name": "python3"
  },
  "language_info": {
   "codemirror_mode": {
    "name": "ipython",
    "version": 3
   },
   "file_extension": ".py",
   "mimetype": "text/x-python",
   "name": "python",
   "nbconvert_exporter": "python",
   "pygments_lexer": "ipython3",
   "version": "3.10.12"
  },
  "orig_nbformat": 4
 },
 "nbformat": 4,
 "nbformat_minor": 2
}
